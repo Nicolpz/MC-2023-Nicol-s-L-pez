{
  "nbformat": 4,
  "nbformat_minor": 0,
  "metadata": {
    "colab": {
      "provenance": []
    },
    "kernelspec": {
      "name": "python3",
      "display_name": "Python 3"
    },
    "language_info": {
      "name": "python"
    }
  },
  "cells": [
    {
      "cell_type": "code",
      "execution_count": 2,
      "metadata": {
        "colab": {
          "base_uri": "https://localhost:8080/"
        },
        "id": "3IpOG1Vh4UYG",
        "outputId": "f2f77504-8db6-4544-e43e-01e51eaea536"
      },
      "outputs": [
        {
          "output_type": "stream",
          "name": "stdout",
          "text": [
            "Raíz aproximada: 0.4444444412365556\n",
            "Error aproximado: 4.6566128730773926e-09\n",
            "Número de iteraciones: 31\n"
          ]
        }
      ],
      "source": [
        "def f(x):\n",
        "    return 1.5 * x*3 - 3.5 * x*2 - 2 * x + 2\n",
        "def bisection_method(a, b, precision):\n",
        "    if f(a) * f(b) >= 0:\n",
        "        print(\"No se puede aplicar el método de la bisección en este intervalo.\")\n",
        "        return None\n",
        "    iterations = 0\n",
        "    while (b - a) >= precision:\n",
        "        c = (a + b) / 2.0\n",
        "        if f(c) == 0.0:\n",
        "            break\n",
        "        if f(c) * f(a) < 0:\n",
        "            b = c\n",
        "        else:\n",
        "            a = c\n",
        "        iterations += 1\n",
        "    approx_root = (a + b) / 2.0\n",
        "    error = (b - a) / 2.0\n",
        "    return approx_root, error, iterations\n",
        "a = -10.0\n",
        "b = 10.0\n",
        "precision = 0.00000001\n",
        "approx_root, error, iterations = bisection_method(a, b, precision)\n",
        "print(\"Raíz aproximada:\", approx_root)\n",
        "print(\"Error aproximado:\", error)\n",
        "print(\"Número de iteraciones:\", iterations)"
      ]
    }
  ]
}