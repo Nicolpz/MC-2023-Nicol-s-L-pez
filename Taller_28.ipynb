{
  "nbformat": 4,
  "nbformat_minor": 0,
  "metadata": {
    "colab": {
      "provenance": []
    },
    "kernelspec": {
      "name": "python3",
      "display_name": "Python 3"
    },
    "language_info": {
      "name": "python"
    }
  },
  "cells": [
    {
      "cell_type": "code",
      "execution_count": 2,
      "metadata": {
        "colab": {
          "base_uri": "https://localhost:8080/"
        },
        "id": "kIq0IkTOzhwI",
        "outputId": "b4ad79d6-1d13-4af8-835e-3a688699e24c"
      },
      "outputs": [
        {
          "output_type": "stream",
          "name": "stdout",
          "text": [
            "La raíz estimada es: 1.74090542\n"
          ]
        }
      ],
      "source": [
        "import math\n",
        "def f(x):\n",
        "    return x**2 - math.exp(-2*x) - 3\n",
        "def f_prime(x):\n",
        "    return 2*x + 2*math.exp(-2*x)\n",
        "def newton_raphson(guess, max_iterations=1000, tolerance=1e-8):\n",
        "    x = guess\n",
        "    for _ in range(max_iterations):\n",
        "        f_value = f(x)\n",
        "        f_prime_value = f_prime(x)\n",
        "        x_new = x - f_value / f_prime_value\n",
        "        if abs(x_new - x) < tolerance:\n",
        "            return round(x_new, 8)\n",
        "        x = x_new\n",
        "    return None\n",
        "initial_guess = 1.0\n",
        "estimated_root = newton_raphson(initial_guess)\n",
        "if estimated_root is not None:\n",
        "    print(\"La raíz estimada es:\", estimated_root)\n",
        "else:\n",
        "    print(\"No se pudo encontrar la raíz en el número máximo de iteraciones.\")"
      ]
    }
  ]
}