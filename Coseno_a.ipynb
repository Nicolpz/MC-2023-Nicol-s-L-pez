{
  "nbformat": 4,
  "nbformat_minor": 0,
  "metadata": {
    "colab": {
      "provenance": []
    },
    "kernelspec": {
      "name": "python3",
      "display_name": "Python 3"
    },
    "language_info": {
      "name": "python"
    }
  },
  "cells": [
    {
      "cell_type": "code",
      "source": [
        "import math\n",
        "x = float(input(\"Ingrese el valor en radianes: \"))\n",
        "es = float(input(\"Ingrese el criterio de error esperado (en decimales 0.001): \"))\n",
        "n = 0\n",
        "ea = 100 \n",
        "cos_x = 1.0\n",
        "while abs(ea) > es:\n",
        "    n += 1\n",
        "    term = ((-1) ** n) * (x ** (2 * n)) / math.factorial(2 * n)\n",
        "    cos_x_old = cos_x\n",
        "    cos_x += term\n",
        "    ea = (cos_x - cos_x_old) / cos_x * 100\n",
        "print(\"El coseno de\", x, \"es:\", cos_x)\n",
        "print(\"El error aproximado relativo porcentual es:\", ea, \"%\")\n",
        "print(\"El número de iteraciones realizadas es:\", n)"
      ],
      "metadata": {
        "colab": {
          "base_uri": "https://localhost:8080/"
        },
        "id": "_9Lx1tzlR9BG",
        "outputId": "7906b2f8-05a1-4aa0-c598-fce2acc7aa6c"
      },
      "execution_count": 4,
      "outputs": [
        {
          "output_type": "stream",
          "name": "stdout",
          "text": [
            "Ingrese el valor en radianes: 15.60\n",
            "Ingrese el criterio de error esperado (en decimales 0.001): 0.001\n",
            "El coseno de 15.6 es: -0.9941775175094126\n",
            "El error aproximado relativo porcentual es: -0.000137520291589925 %\n",
            "El número de iteraciones realizadas es: 26\n"
          ]
        }
      ]
    }
  ]
}