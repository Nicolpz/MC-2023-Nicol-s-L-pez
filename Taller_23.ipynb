{
  "nbformat": 4,
  "nbformat_minor": 0,
  "metadata": {
    "colab": {
      "provenance": []
    },
    "kernelspec": {
      "name": "python3",
      "display_name": "Python 3"
    },
    "language_info": {
      "name": "python"
    }
  },
  "cells": [
    {
      "cell_type": "code",
      "source": [
        "import numpy as np\n",
        "def lagrange_interpolation(x, y):\n",
        "    n = len(x)\n",
        "    L = np.zeros((n, n))\n",
        "    for i in range(n):\n",
        "        p = np.poly([x[j] for j in range(n) if j != i])\n",
        "        L[i, :] = p / np.prod(np.array([x[i] - x[j] for j in range(n) if j != i]))\n",
        "    return np.sum(np.array([y[i] * L[i, :] for i in range(n)]), axis=0)\n",
        "x = [0, 1, 2, 3, 4]\n",
        "y = [1, 0.9, -1, -2.3, 1.8]\n",
        "polynomial = lagrange_interpolation(x, y)\n",
        "print(\"El polinomio de interpolación de Lagrange es: \")\n",
        "print(np.poly1d(polynomial))"
      ],
      "metadata": {
        "colab": {
          "base_uri": "https://localhost:8080/"
        },
        "id": "J3yee_psRDy1",
        "outputId": "d246730b-8740-4dec-9490-eadc1d9e203c"
      },
      "execution_count": 11,
      "outputs": [
        {
          "output_type": "stream",
          "name": "stdout",
          "text": [
            "El polinomio de interpolación de Lagrange es: \n",
            "     4       3     2\n",
            "0.1 x - 0.2 x - 1 x + 1 x + 1\n"
          ]
        }
      ]
    }
  ]
}