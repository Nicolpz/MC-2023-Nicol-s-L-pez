{
  "nbformat": 4,
  "nbformat_minor": 0,
  "metadata": {
    "colab": {
      "provenance": []
    },
    "kernelspec": {
      "name": "python3",
      "display_name": "Python 3"
    },
    "language_info": {
      "name": "python"
    }
  },
  "cells": [
    {
      "cell_type": "code",
      "execution_count": 4,
      "metadata": {
        "colab": {
          "base_uri": "https://localhost:8080/"
        },
        "id": "edJbCiaGmdov",
        "outputId": "8a39f561-6592-482a-d544-952cfbb69d49"
      },
      "outputs": [
        {
          "output_type": "stream",
          "name": "stdout",
          "text": [
            "El valor estimado es de:  0.42741493200675057\n",
            "El error aproximado porcentual es de:  1.2692270919058235e-08 %\n",
            "El número total de iteraciones fue:  13\n",
            "El valor estimado es de:  0.04388404001143489\n",
            "El error aproximado porcentual es de:  2.68626531673487e-09 %\n",
            "El número total de iteraciones fue:  15\n"
          ]
        }
      ],
      "source": [
        "import math\n",
        "from math import factorial\n",
        "\n",
        "es = 0.5 *  10**-8 * 100\n",
        "ea = 100\n",
        "num = 0.85\n",
        "potencia = 1\n",
        "valor = 1\n",
        "iteraciones = 1\n",
        "euler = 1\n",
        "while ea >= es:\n",
        "  op = (pow(num,potencia)/factorial(valor))\n",
        "  euler += op\n",
        "  euler2 = 1/euler\n",
        "  iteraciones += 1\n",
        "  ea = abs(((euler2-ea)/euler2)*100)\n",
        "  valor += 1\n",
        "  potencia += 1\n",
        "  #iteracion 2\n",
        "  op = (pow(num,potencia)/factorial(valor))\n",
        "  euler += op\n",
        "  euler3 = 1/euler\n",
        "  iteraciones += 1\n",
        "  ea = abs(((euler3-euler2)/euler2)*100)\n",
        "  valor += 1\n",
        "  potencia += 1\n",
        "else:\n",
        "  print(\"El valor estimado es de: \", euler2)\n",
        "  print(\"El error aproximado porcentual es de: \", ea, \"%\")\n",
        "  print(\"El número total de iteraciones fue: \", iteraciones)\n",
        "  \n",
        "  \n",
        "#Segundo punto\n",
        "es4 = 0.5 *  10**-8 * 100\n",
        "ea4 = 100\n",
        "\n",
        "num4 = 0.85\n",
        "potencia4 = 1\n",
        "valor4 = 1\n",
        "iteraciones4 = 1\n",
        "euler4 = 1\n",
        "while ea4 >= es4:\n",
        "  op4 = (pow(num4,potencia4)/factorial(valor4))\n",
        "  euler4 -= op4\n",
        "  iteraciones4 += 1\n",
        "  ea4 = abs(((euler4-ea4)/euler4)*100)\n",
        "  valor4 += 1\n",
        "  potencia4 += 1\n",
        "  #iteracion 2\n",
        "  op6 = (pow(num4,potencia4)/factorial(valor4))\n",
        "  euler6 = euler4 + op6\n",
        "  iteraciones4 += 1\n",
        "  ea4 = abs(((euler6-euler4)/euler6)*100)\n",
        "  valor4 += 1\n",
        "  potencia4 += 1\n",
        "else:\n",
        "  print(\"El valor estimado es de: \", euler4)\n",
        "  print(\"El error aproximado porcentual es de: \", ea4, \"%\")\n",
        "  print(\"El número total de iteraciones fue: \", iteraciones4)"
      ]
    }
  ]
}