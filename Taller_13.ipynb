{
  "nbformat": 4,
  "nbformat_minor": 0,
  "metadata": {
    "colab": {
      "provenance": []
    },
    "kernelspec": {
      "name": "python3",
      "display_name": "Python 3"
    },
    "language_info": {
      "name": "python"
    }
  },
  "cells": [
    {
      "cell_type": "code",
      "execution_count": 5,
      "metadata": {
        "colab": {
          "base_uri": "https://localhost:8080/"
        },
        "id": "7qho08-r-uGR",
        "outputId": "61560b76-1453-4ee2-fc41-6aa7435c0cb3"
      },
      "outputs": [
        {
          "output_type": "stream",
          "name": "stdout",
          "text": [
            "Ingrese la longitud de los vectores: 3\n",
            "Ingrese los valores del primer vector:\n",
            "0\n",
            "1\n",
            "2\n",
            "Ingrese los valores del segundo vector:\n",
            "3\n",
            "4\n",
            "5\n",
            "El producto escalar de los dos vectores es: 14.0\n"
          ]
        }
      ],
      "source": [
        "n = int(input(\"Ingrese la longitud de los vectores: \"))\n",
        "vector1 = []\n",
        "print(\"Ingrese los valores del primer vector:\")\n",
        "for i in range(n):\n",
        "    valor = float(input())\n",
        "    vector1.append(valor)\n",
        "vector2 = []\n",
        "print(\"Ingrese los valores del segundo vector:\")\n",
        "for i in range(n):\n",
        "    valor = float(input())\n",
        "    vector2.append(valor)\n",
        "producto_escalar = 0\n",
        "for i in range(n):\n",
        "    producto_escalar += vector1[i] * vector2[i]\n",
        "print(\"El producto escalar de los dos vectores es:\", producto_escalar)"
      ]
    },
    {
      "cell_type": "code",
      "source": [
        "def crear_matriz(filas, columnas):\n",
        "    matriz = []\n",
        "    for i in range(filas):\n",
        "        fila = []\n",
        "        for j in range(columnas):\n",
        "            valor = float(input(f\"Ingrese el valor en la posición [{i}][{j}]: \"))\n",
        "            fila.append(valor)\n",
        "        matriz.append(fila)\n",
        "    return matriz\n",
        "\n",
        "def imprimir_matriz(matriz):\n",
        "    for fila in matriz:\n",
        "        print(fila)\n",
        "\n",
        "def sumar_matrices(A, B):\n",
        "    filas = len(A)\n",
        "    columnas = len(A[0])\n",
        "    C = []\n",
        "    for i in range(filas):\n",
        "        fila = []\n",
        "        for j in range(columnas):\n",
        "            valor = A[i][j] + B[i][j]\n",
        "            fila.append(valor)\n",
        "        C.append(fila)\n",
        "    return C\n",
        "\n",
        "def multiplicar_matrices(B, A):\n",
        "    filas_b = len(B)\n",
        "    columnas_b = len(B[0])\n",
        "    filas_a = len(A)\n",
        "    columnas_a = len(A[0])\n",
        "    if columnas_b != filas_a:\n",
        "        return None\n",
        "    C = []\n",
        "    for i in range(filas_b):\n",
        "        fila = []\n",
        "        for j in range(columnas_a):\n",
        "            valor = 0\n",
        "            for k in range(columnas_b):\n",
        "                valor += B[i][k] * A[k][j]\n",
        "            fila.append(valor)\n",
        "        C.append(fila)\n",
        "    return C\n",
        "\n",
        "filas_a = int(input(\"Ingrese el número de filas de la matriz A: \"))\n",
        "columnas_a = int(input(\"Ingrese el número de columnas de la matriz A: \"))\n",
        "A = crear_matriz(filas_a, columnas_a)\n",
        "\n",
        "filas_b = int(input(\"Ingrese el número de filas de la matriz B: \"))\n",
        "columnas_b = int(input(\"Ingrese el número de columnas de la matriz B: \"))\n",
        "B = crear_matriz(filas_b, columnas_b)\n",
        "\n",
        "print(\"3A:\")\n",
        "tresA = [[3 * A[i][j] for j in range(columnas_a)] for i in range(filas_a)]\n",
        "imprimir_matriz(tresA)\n",
        "\n",
        "print(\"4B:\")\n",
        "cuatroB = [[4 * B[i][j] for j in range(columnas_b)] for i in range(filas_b)]\n",
        "imprimir_matriz(cuatroB)\n",
        "\n",
        "if filas_a == filas_b and columnas_a == columnas_b:\n",
        "    print(\"A + B:\")\n",
        "    suma = sumar_matrices(A, B)\n",
        "    imprimir_matriz(suma)\n",
        "else:\n",
        "    print(\"A + B: No se puede realizar la operación\")\n",
        "\n",
        "print(\"B × A:\")\n",
        "producto = multiplicar_matrices(B, A)\n",
        "if producto is None:\n",
        "    print(\"No se puede realizar la operación\")\n",
        "else:\n",
        "    imprimir_matriz(producto)\n"
      ],
      "metadata": {
        "colab": {
          "base_uri": "https://localhost:8080/"
        },
        "id": "pvqDc0YlBXQB",
        "outputId": "15757fc9-c779-475d-9302-c06a89a9c6ad"
      },
      "execution_count": 6,
      "outputs": [
        {
          "output_type": "stream",
          "name": "stdout",
          "text": [
            "Ingrese el número de filas de la matriz A: 3\n",
            "Ingrese el número de columnas de la matriz A: 3\n",
            "Ingrese el valor en la posición [0][0]: 0\n",
            "Ingrese el valor en la posición [0][1]: 1\n",
            "Ingrese el valor en la posición [0][2]: 2\n",
            "Ingrese el valor en la posición [1][0]: 3\n",
            "Ingrese el valor en la posición [1][1]: 4\n",
            "Ingrese el valor en la posición [1][2]: 5\n",
            "Ingrese el valor en la posición [2][0]: 6\n",
            "Ingrese el valor en la posición [2][1]: 7\n",
            "Ingrese el valor en la posición [2][2]: 8\n",
            "Ingrese el número de filas de la matriz B: 3\n",
            "Ingrese el número de columnas de la matriz B: 3\n",
            "Ingrese el valor en la posición [0][0]: 9\n",
            "Ingrese el valor en la posición [0][1]: 10\n",
            "Ingrese el valor en la posición [0][2]: 11\n",
            "Ingrese el valor en la posición [1][0]: 12\n",
            "Ingrese el valor en la posición [1][1]: 13\n",
            "Ingrese el valor en la posición [1][2]: 14\n",
            "Ingrese el valor en la posición [2][0]: 15\n",
            "Ingrese el valor en la posición [2][1]: 16\n",
            "Ingrese el valor en la posición [2][2]: 17\n",
            "3A:\n",
            "[0.0, 3.0, 6.0]\n",
            "[9.0, 12.0, 15.0]\n",
            "[18.0, 21.0, 24.0]\n",
            "4B:\n",
            "[36.0, 40.0, 44.0]\n",
            "[48.0, 52.0, 56.0]\n",
            "[60.0, 64.0, 68.0]\n",
            "A + B:\n",
            "[9.0, 11.0, 13.0]\n",
            "[15.0, 17.0, 19.0]\n",
            "[21.0, 23.0, 25.0]\n",
            "B × A:\n",
            "[96.0, 126.0, 156.0]\n",
            "[123.0, 162.0, 201.0]\n",
            "[150.0, 198.0, 246.0]\n"
          ]
        }
      ]
    }
  ]
}