{
  "nbformat": 4,
  "nbformat_minor": 0,
  "metadata": {
    "colab": {
      "provenance": []
    },
    "kernelspec": {
      "name": "python3",
      "display_name": "Python 3"
    },
    "language_info": {
      "name": "python"
    }
  },
  "cells": [
    {
      "cell_type": "code",
      "source": [
        "n = int(input(\"Ingrese la dimensión de la matriz cuadrada: \"))\n",
        "matriz = []\n",
        "for i in range(n):\n",
        "    fila = []\n",
        "    for j in range(n):\n",
        "        elemento = float(input(f\"Ingrese el elemento de la fila {i+1} y columna {j+1}: \"))\n",
        "        fila.append(elemento)\n",
        "    matriz.append(fila)\n",
        "identidad = [[1 if i == j else 0 for j in range(n)] for i in range(n)]\n",
        "aumentada = [fila + identidad[i] for i, fila in enumerate(matriz)]\n",
        "for i in range(n):\n",
        "    if aumentada[i][i] == 0:\n",
        "        intercambiado = False\n",
        "        for j in range(i+1, n):\n",
        "            if aumentada[j][i] != 0:\n",
        "                aumentada[i], aumentada[j] = aumentada[j], aumentada[i]\n",
        "                intercambiado = True\n",
        "                break\n",
        "        if not intercambiado:\n",
        "            print(\"no se puede calcular\")\n",
        "            break\n",
        "    if aumentada[i][i] != 1:\n",
        "        escalar = aumentada[i][i]\n",
        "        for j in range(n*2):\n",
        "            aumentada[i][j] /= escalar\n",
        "    for j in range(n):\n",
        "        if j != i:\n",
        "            escalar = aumentada[j][i]\n",
        "            for k in range(n*2):\n",
        "                aumentada[j][k] -= escalar * aumentada[i][k]\n",
        "else:\n",
        "    inversa = [fila[n:] for fila in aumentada]\n",
        "    print(\"La matriz inversa es:\")\n",
        "    for fila in inversa:\n",
        "        print([round(elem, 2) for elem in fila])"
      ],
      "metadata": {
        "colab": {
          "base_uri": "https://localhost:8080/"
        },
        "id": "T0i7YnzRCxrh",
        "outputId": "d4d34852-c2a4-4c4a-e9cd-9616da234f09"
      },
      "execution_count": 9,
      "outputs": [
        {
          "output_type": "stream",
          "name": "stdout",
          "text": [
            "Ingrese la dimensión de la matriz cuadrada: 2\n",
            "Ingrese el elemento de la fila 1 y columna 1: 0\n",
            "Ingrese el elemento de la fila 1 y columna 2: 1\n",
            "Ingrese el elemento de la fila 2 y columna 1: 2\n",
            "Ingrese el elemento de la fila 2 y columna 2: 3\n",
            "La matriz inversa es:\n",
            "[-1.5, 0.5]\n",
            "[1.0, 0.0]\n"
          ]
        }
      ]
    }
  ]
}